{
 "cells": [
  {
   "cell_type": "code",
   "execution_count": 1,
   "metadata": {},
   "outputs": [
    {
     "name": "stdout",
     "output_type": "stream",
     "text": [
      "Hello! Python\n"
     ]
    }
   ],
   "source": [
    "print(\"Hello! Python\")"
   ]
  },
  {
   "attachments": {},
   "cell_type": "markdown",
   "metadata": {},
   "source": [
    "#google meet\n",
    "https://meet.google.com/ghs-xzys-oaj\n",
    "#github_T\n",
    "https://github.com/roberthsu2003/\n"
   ]
  },
  {
   "cell_type": "code",
   "execution_count": 2,
   "metadata": {},
   "outputs": [
    {
     "name": "stdout",
     "output_type": "stream",
     "text": [
      "234 =int\n",
      "23.4 =float\n",
      "aaa =str\n",
      "False =bool\n"
     ]
    }
   ],
   "source": [
    "print(234,\"=int\")\n",
    "print(23.4,\"=float\")\n",
    "print(\"aaa\",\"=str\")\n",
    "print(False,\"=bool\")"
   ]
  },
  {
   "cell_type": "code",
   "execution_count": 12,
   "metadata": {},
   "outputs": [
    {
     "data": {
      "text/plain": [
       "0"
      ]
     },
     "execution_count": 12,
     "metadata": {},
     "output_type": "execute_result"
    }
   ],
   "source": [
    "500+300-800\n",
    "'2305'+'-python'\n",
    "(56*75,83-24,56/5,56//5,56%5)\n",
    "(4950-1370)//7+1370//4\n",
    "10*(2+9)**2+100-58\n",
    "'500'+str(5),int(5)*100\n",
    "eval(\"500+300-800\")"
   ]
  },
  {
   "cell_type": "code",
   "execution_count": 19,
   "metadata": {},
   "outputs": [
    {
     "data": {
      "text/plain": [
       "853"
      ]
     },
     "execution_count": 19,
     "metadata": {},
     "output_type": "execute_result"
    }
   ],
   "source": [
    "n=(4950-1370)//7\n",
    "m=n+1370//4\n",
    "m"
   ]
  },
  {
   "cell_type": "code",
   "execution_count": 21,
   "metadata": {},
   "outputs": [
    {
     "data": {
      "text/plain": [
       "50"
      ]
     },
     "execution_count": 21,
     "metadata": {},
     "output_type": "execute_result"
    }
   ],
   "source": [
    "n=50\n",
    "n*=10\n",
    "n//=10\n",
    "n"
   ]
  },
  {
   "cell_type": "code",
   "execution_count": 28,
   "metadata": {},
   "outputs": [
    {
     "name": "stdout",
     "output_type": "stream",
     "text": [
      "n*m=50\n",
      "5*10=50\n"
     ]
    }
   ],
   "source": [
    "n=5\n",
    "m=10\n",
    "\n",
    "print(f\"n*m={n*m}\")\n",
    "print(f\"{n}*{m}={n*m}\")"
   ]
  }
 ],
 "metadata": {
  "kernelspec": {
   "display_name": "Python 3",
   "language": "python",
   "name": "python3"
  },
  "language_info": {
   "codemirror_mode": {
    "name": "ipython",
    "version": 3
   },
   "file_extension": ".py",
   "mimetype": "text/x-python",
   "name": "python",
   "nbconvert_exporter": "python",
   "pygments_lexer": "ipython3",
   "version": "3.10.4"
  },
  "orig_nbformat": 4
 },
 "nbformat": 4,
 "nbformat_minor": 2
}
