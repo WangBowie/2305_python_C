{
 "cells": [
  {
   "cell_type": "code",
   "execution_count": 1,
   "metadata": {},
   "outputs": [
    {
     "name": "stdout",
     "output_type": "stream",
     "text": [
      "<class 'int'>\n"
     ]
    }
   ],
   "source": [
    "print(type(13))"
   ]
  },
  {
   "cell_type": "code",
   "execution_count": 4,
   "metadata": {},
   "outputs": [
    {
     "name": "stdout",
     "output_type": "stream",
     "text": [
      "末滿7\n",
      "資格不符\n",
      "返回上一頁\n"
     ]
    }
   ],
   "source": [
    "age=6\n",
    "\n",
    "if age>=7: #雙項選擇\n",
    "    print(\"符合入學資格\")\n",
    "    print(\"申請抽籤\")\n",
    "else:\n",
    "    print(\"末滿7\")\n",
    "    print(\"資格不符\")\n",
    "\n",
    "print(\"返回上一頁\")"
   ]
  },
  {
   "cell_type": "code",
   "execution_count": 8,
   "metadata": {},
   "outputs": [
    {
     "name": "stdout",
     "output_type": "stream",
     "text": [
      "年齡層為:青年人\n"
     ]
    }
   ],
   "source": [
    "age=int(input(\"請輸入年齡\"))\n",
    "if age>=60:\n",
    "    grade=\"老年人\"\n",
    "elif age>=45:\n",
    "    grade=\"中年人\"\n",
    "elif age>=15:\n",
    "    grade=\"青年人\"\n",
    "else:\n",
    "    grade=\"未成年\"\n",
    "\n",
    "print(f\"年齡層為:{grade}\")"
   ]
  },
  {
   "cell_type": "code",
   "execution_count": 9,
   "metadata": {},
   "outputs": [
    {
     "name": "stdout",
     "output_type": "stream",
     "text": [
      "獎金為0\n"
     ]
    }
   ],
   "source": [
    "chinese=80\n",
    "math=80\n",
    "\n",
    "if chinese == 100 and math == 100:\n",
    "    bonus = 1200\n",
    "elif chinese == 100 or math == 100:\n",
    "    bonus = 600\n",
    "else:\n",
    "    bonus = 0\n",
    "\n",
    "print(f\"獎金為{bonus}\") "
   ]
  },
  {
   "cell_type": "code",
   "execution_count": 12,
   "metadata": {},
   "outputs": [
    {
     "name": "stdout",
     "output_type": "stream",
     "text": [
      "0\n",
      "1\n",
      "2\n",
      "3\n",
      "4\n",
      "5\n",
      "6\n",
      "7\n"
     ]
    }
   ],
   "source": [
    "for i in range(8):\n",
    "    print(i)\n"
   ]
  },
  {
   "cell_type": "code",
   "execution_count": 13,
   "metadata": {},
   "outputs": [
    {
     "name": "stdout",
     "output_type": "stream",
     "text": [
      "1\n",
      "2\n",
      "3\n",
      "4\n",
      "5\n",
      "6\n",
      "7\n"
     ]
    }
   ],
   "source": [
    "for i in range(1,8):\n",
    "    print(i)"
   ]
  },
  {
   "cell_type": "code",
   "execution_count": 15,
   "metadata": {},
   "outputs": [
    {
     "name": "stdout",
     "output_type": "stream",
     "text": [
      "1\n",
      "4\n",
      "7\n"
     ]
    }
   ],
   "source": [
    "for i in range(1,8,3):\n",
    "    print(i)"
   ]
  },
  {
   "cell_type": "code",
   "execution_count": 6,
   "metadata": {},
   "outputs": [
    {
     "name": "stdout",
     "output_type": "stream",
     "text": [
      "累計至6個月,共存了42600\n"
     ]
    }
   ],
   "source": [
    "deposit=0\n",
    "num=0\n",
    "while(True):\n",
    "    num += 1\n",
    "    input_value = int(input(f\"請輸入{num}月份的存款:\"))\n",
    "    deposit += input_value\n",
    "    if(deposit>=38000):\n",
    "        break\n",
    "\n",
    "print(f\"累計至{num}個月,共存了{deposit}\")"
   ]
  },
  {
   "cell_type": "code",
   "execution_count": 8,
   "metadata": {},
   "outputs": [
    {
     "name": "stdout",
     "output_type": "stream",
     "text": [
      "所有輸入的正偶數加總是:1300\n"
     ]
    }
   ],
   "source": [
    "num=0\n",
    "sum=0\n",
    "while (True):\n",
    "    num+=1\n",
    "    input_num = int(input(f\"請輸入第{num}個數值:\"))\n",
    "    if input_num < 0:\n",
    "        break\n",
    "    elif input_num % 2 == 1:\n",
    "        continue\n",
    "    else:\n",
    "        sum += input_num\n",
    "        \n",
    "print(f\"所有輸入的正偶數加總是:{sum}\")"
   ]
  },
  {
   "cell_type": "code",
   "execution_count": 9,
   "metadata": {},
   "outputs": [
    {
     "name": "stdout",
     "output_type": "stream",
     "text": [
      "50的因數有:\n",
      "1\n",
      "2\n",
      "5\n",
      "10\n",
      "25\n",
      "50\n",
      "==以上==\n"
     ]
    }
   ],
   "source": [
    "num=int(input(\"請輸入一個數值以求其因數\"))\n",
    "print(f\"{num}的因數有:\")\n",
    "for i in range(1,num+1):\n",
    "    if num%i==0:\n",
    "        print(i)\n",
    "print(\"==以上==\")"
   ]
  }
 ],
 "metadata": {
  "kernelspec": {
   "display_name": "Python 3",
   "language": "python",
   "name": "python3"
  },
  "language_info": {
   "codemirror_mode": {
    "name": "ipython",
    "version": 3
   },
   "file_extension": ".py",
   "mimetype": "text/x-python",
   "name": "python",
   "nbconvert_exporter": "python",
   "pygments_lexer": "ipython3",
   "version": "3.9.16"
  },
  "orig_nbformat": 4
 },
 "nbformat": 4,
 "nbformat_minor": 2
}
